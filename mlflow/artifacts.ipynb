{
 "cells": [
  {
   "cell_type": "code",
   "execution_count": 4,
   "metadata": {},
   "outputs": [
    {
     "name": "stdout",
     "output_type": "stream",
     "text": [
      "Logged parameter and metric!\n"
     ]
    }
   ],
   "source": [
    "import mlflow\n",
    "mlflow.set_tracking_uri(\"./mlruns\")\n",
    "\n",
    "\n",
    "# Start an MLflow run\n",
    "with mlflow.start_run():\n",
    "    # Log a parameter (for example, a learning rate or any hyperparameter)\n",
    "    mlflow.log_param(\"learning_rate\", 0.01)\n",
    "    \n",
    "    # Log a metric (for example, accuracy, loss, etc.)\n",
    "    # Here, we simulate a metric value. In real use-cases, this would be computed from your model's performance.\n",
    "    mlflow.log_metric(\"accuracy\", 0.95)\n",
    "    \n",
    "    print(\"Logged parameter and metric!\")\n"
   ]
  },
  {
   "cell_type": "code",
   "execution_count": 5,
   "metadata": {},
   "outputs": [
    {
     "name": "stdout",
     "output_type": "stream",
     "text": [
      "Artifact logged: artifacts/sine_wave.png\n"
     ]
    }
   ],
   "source": [
    "import mlflow\n",
    "import matplotlib.pyplot as plt\n",
    "import numpy as np\n",
    "import os\n",
    "\n",
    "# Generate some data for the plot\n",
    "x = np.linspace(0, 10, 100)\n",
    "y = np.sin(x)\n",
    "\n",
    "# Create a simple plot\n",
    "plt.figure()\n",
    "plt.plot(x, y)\n",
    "plt.title(\"Sine Wave\")\n",
    "plt.xlabel(\"x\")\n",
    "plt.ylabel(\"sin(x)\")\n",
    "\n",
    "# Save the plot to a file\n",
    "artifact_dir = \"artifacts\"\n",
    "os.makedirs(artifact_dir, exist_ok=True)\n",
    "plot_path = os.path.join(artifact_dir, \"sine_wave.png\")\n",
    "plt.savefig(plot_path)\n",
    "plt.close()\n",
    "\n",
    "# Start an MLflow run and log the artifact\n",
    "with mlflow.start_run():\n",
    "    mlflow.log_param(\"plot_type\", \"sine_wave\")\n",
    "    mlflow.log_artifact(plot_path)\n",
    "    print(f\"Artifact logged: {plot_path}\")\n"
   ]
  },
  {
   "cell_type": "code",
   "execution_count": 1,
   "metadata": {},
   "outputs": [
    {
     "name": "stdout",
     "output_type": "stream",
     "text": [
      "Latest run id: cb2350471a2f43ceb9fd12c38609571f\n"
     ]
    },
    {
     "data": {
      "application/vnd.jupyter.widget-view+json": {
       "model_id": "aeb876db9eaf4b3e9de05810d041bde9",
       "version_major": 2,
       "version_minor": 0
      },
      "text/plain": [
       "Downloading artifacts:   0%|          | 0/1 [00:00<?, ?it/s]"
      ]
     },
     "metadata": {},
     "output_type": "display_data"
    },
    {
     "name": "stdout",
     "output_type": "stream",
     "text": [
      "Artifact downloaded to: /Users/kasra/Codes/ml-practice/mlflow/downloaded_artifacts/sine_wave.png\n"
     ]
    }
   ],
   "source": [
    "import os\n",
    "import mlflow\n",
    "from mlflow.tracking import MlflowClient\n",
    "\n",
    "# Initialize the MLflow client\n",
    "client = MlflowClient()\n",
    "\n",
    "# Option 1: Specify a known run_id (if you already know which run to query)\n",
    "# run_id = \"your_run_id_here\"\n",
    "\n",
    "# Option 2: Programmatically get the latest run from the default experiment (experiment_id \"0\")\n",
    "runs = client.search_runs(experiment_ids=[\"0\"], order_by=[\"start_time DESC\"], max_results=1)\n",
    "if not runs:\n",
    "    print(\"No runs found in experiment '0'.\")\n",
    "    exit()\n",
    "\n",
    "# Get the run_id from the most recent run\n",
    "run = runs[0]\n",
    "run_id = run.info.run_id\n",
    "print(\"Latest run id:\", run_id)\n",
    "\n",
    "# Specify the artifact path (this should match the path you used when logging the artifact)\n",
    "artifact_path = \"sine_wave.png\"  # for our previous example from artifact_example.py\n",
    "\n",
    "# Define a local directory where you want to download the artifact\n",
    "local_dir = \"downloaded_artifacts\"\n",
    "os.makedirs(local_dir, exist_ok=True)\n",
    "\n",
    "# Download the artifact\n",
    "local_path = client.download_artifacts(run_id, artifact_path, local_dir)\n",
    "print(\"Artifact downloaded to:\", local_path)\n"
   ]
  },
  {
   "cell_type": "code",
   "execution_count": null,
   "metadata": {},
   "outputs": [],
   "source": []
  }
 ],
 "metadata": {
  "kernelspec": {
   "display_name": "ml-practice",
   "language": "python",
   "name": "python3"
  },
  "language_info": {
   "codemirror_mode": {
    "name": "ipython",
    "version": 3
   },
   "file_extension": ".py",
   "mimetype": "text/x-python",
   "name": "python",
   "nbconvert_exporter": "python",
   "pygments_lexer": "ipython3",
   "version": "3.8.20"
  }
 },
 "nbformat": 4,
 "nbformat_minor": 2
}
