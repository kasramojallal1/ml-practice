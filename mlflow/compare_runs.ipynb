{
 "cells": [
  {
   "cell_type": "code",
   "execution_count": 1,
   "metadata": {},
   "outputs": [],
   "source": [
    "import mlflow\n",
    "import mlflow.sklearn\n",
    "from sklearn.datasets import load_iris\n",
    "from sklearn.linear_model import LogisticRegression\n",
    "from sklearn.model_selection import train_test_split\n",
    "from sklearn.metrics import accuracy_score"
   ]
  },
  {
   "cell_type": "code",
   "execution_count": 2,
   "metadata": {},
   "outputs": [],
   "source": [
    "mlflow.set_tracking_uri(\"./mlruns\")"
   ]
  },
  {
   "cell_type": "code",
   "execution_count": 4,
   "metadata": {},
   "outputs": [],
   "source": [
    "iris = load_iris()\n",
    "X = iris.data\n",
    "y = iris.target\n",
    "\n",
    "X_train, X_test, y_train, y_test = train_test_split(X, y, test_size=0.3, random_state=42)"
   ]
  },
  {
   "cell_type": "code",
   "execution_count": 5,
   "metadata": {},
   "outputs": [
    {
     "name": "stdout",
     "output_type": "stream",
     "text": [
      "Run with C=0.1: accuracy = 0.9556\n"
     ]
    },
    {
     "name": "stderr",
     "output_type": "stream",
     "text": [
      "2025/02/04 18:22:24 WARNING mlflow.models.model: Model logged without a signature and input example. Please set `input_example` parameter when logging the model to auto infer the model signature.\n"
     ]
    },
    {
     "name": "stdout",
     "output_type": "stream",
     "text": [
      "Run with C=1.0: accuracy = 1.0000\n"
     ]
    },
    {
     "name": "stderr",
     "output_type": "stream",
     "text": [
      "2025/02/04 18:22:26 WARNING mlflow.models.model: Model logged without a signature and input example. Please set `input_example` parameter when logging the model to auto infer the model signature.\n"
     ]
    },
    {
     "name": "stdout",
     "output_type": "stream",
     "text": [
      "Run with C=10.0: accuracy = 1.0000\n"
     ]
    },
    {
     "name": "stderr",
     "output_type": "stream",
     "text": [
      "2025/02/04 18:22:29 WARNING mlflow.models.model: Model logged without a signature and input example. Please set `input_example` parameter when logging the model to auto infer the model signature.\n"
     ]
    }
   ],
   "source": [
    "C_values = [0.1, 1.0, 10.0]\n",
    "\n",
    "for C in C_values:\n",
    "    with mlflow.start_run():\n",
    "        penalty = 'l2'\n",
    "        solver = 'lbfgs'\n",
    "        \n",
    "        # Log parameters\n",
    "        mlflow.log_param(\"penalty\", penalty)\n",
    "        mlflow.log_param(\"C\", C)\n",
    "        mlflow.log_param(\"solver\", solver)\n",
    "        \n",
    "        # Train model\n",
    "        model = LogisticRegression(penalty=penalty, C=C, solver=solver, max_iter=200, random_state=42)\n",
    "        model.fit(X_train, y_train)\n",
    "        \n",
    "        # Evaluate model\n",
    "        predictions = model.predict(X_test)\n",
    "        acc = accuracy_score(y_test, predictions)\n",
    "        mlflow.log_metric(\"accuracy\", acc)\n",
    "        print(f\"Run with C={C}: accuracy = {acc:.4f}\")\n",
    "        \n",
    "        # Log the model\n",
    "        mlflow.sklearn.log_model(model, \"model\")"
   ]
  },
  {
   "cell_type": "code",
   "execution_count": 6,
   "metadata": {},
   "outputs": [
    {
     "name": "stdout",
     "output_type": "stream",
     "text": [
      "Comparing runs:\n",
      "Run ID: 0c913ec25772498ba225504729031689\n",
      "  Parameters: {'penalty': 'l2', 'solver': 'lbfgs', 'C': '10.0'}\n",
      "  Accuracy: 1.0\n",
      "------------------------------\n",
      "Run ID: a6addebbb6844785a32921e5a022255e\n",
      "  Parameters: {'penalty': 'l2', 'solver': 'lbfgs', 'C': '1.0'}\n",
      "  Accuracy: 1.0\n",
      "------------------------------\n",
      "Run ID: 5dfb98959406485498a7520f9f1f62a6\n",
      "  Parameters: {'penalty': 'l2', 'solver': 'lbfgs', 'C': '0.1'}\n",
      "  Accuracy: 0.9555555555555556\n",
      "------------------------------\n",
      "Run ID: d3f63e0eb71f4e51a73299a6e5c42b10\n",
      "  Parameters: {'penalty': 'l2', 'solver': 'lbfgs', 'C': '1.0'}\n",
      "  Accuracy: 1.0\n",
      "------------------------------\n",
      "Run ID: cb2350471a2f43ceb9fd12c38609571f\n",
      "  Parameters: {'plot_type': 'sine_wave'}\n",
      "  Accuracy: N/A\n",
      "------------------------------\n",
      "Run ID: e1938591fdb84661bd5b6c33cd0b6321\n",
      "  Parameters: {'learning_rate': '0.01'}\n",
      "  Accuracy: 0.95\n",
      "------------------------------\n",
      "Run ID: c8bc5e56769b417694187b9661521adc\n",
      "  Parameters: {'learning_rate': '0.01'}\n",
      "  Accuracy: 0.95\n",
      "------------------------------\n"
     ]
    }
   ],
   "source": [
    "from mlflow.tracking import MlflowClient\n",
    "\n",
    "client = MlflowClient()\n",
    "experiment_id = \"0\"\n",
    "\n",
    "runs = client.search_runs(experiment_ids=[experiment_id], order_by=[\"start_time DESC\"])\n",
    "print(\"Comparing runs:\")\n",
    "for run in runs:\n",
    "    run_id = run.info.run_id\n",
    "    params = run.data.params\n",
    "    metrics = run.data.metrics\n",
    "    print(f\"Run ID: {run_id}\")\n",
    "    print(f\"  Parameters: {params}\")\n",
    "    print(f\"  Accuracy: {metrics.get('accuracy', 'N/A')}\")\n",
    "    print(\"-\" * 30)\n"
   ]
  },
  {
   "cell_type": "code",
   "execution_count": null,
   "metadata": {},
   "outputs": [],
   "source": []
  }
 ],
 "metadata": {
  "kernelspec": {
   "display_name": "ml-practice",
   "language": "python",
   "name": "python3"
  },
  "language_info": {
   "codemirror_mode": {
    "name": "ipython",
    "version": 3
   },
   "file_extension": ".py",
   "mimetype": "text/x-python",
   "name": "python",
   "nbconvert_exporter": "python",
   "pygments_lexer": "ipython3",
   "version": "3.8.20"
  }
 },
 "nbformat": 4,
 "nbformat_minor": 2
}
