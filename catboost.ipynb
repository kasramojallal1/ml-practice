{
 "cells": [
  {
   "cell_type": "code",
   "execution_count": 3,
   "metadata": {},
   "outputs": [
    {
     "name": "stdout",
     "output_type": "stream",
     "text": [
      "0:\tlearn: 0.5595265\ttotal: 60.4ms\tremaining: 5.98s\n",
      "10:\tlearn: 0.1270258\ttotal: 79.8ms\tremaining: 646ms\n",
      "20:\tlearn: 0.0620131\ttotal: 97.5ms\tremaining: 367ms\n",
      "30:\tlearn: 0.0392525\ttotal: 113ms\tremaining: 252ms\n",
      "40:\tlearn: 0.0259172\ttotal: 127ms\tremaining: 183ms\n",
      "50:\tlearn: 0.0193440\ttotal: 143ms\tremaining: 137ms\n",
      "60:\tlearn: 0.0143139\ttotal: 159ms\tremaining: 102ms\n",
      "70:\tlearn: 0.0111052\ttotal: 175ms\tremaining: 71.3ms\n",
      "80:\tlearn: 0.0085481\ttotal: 192ms\tremaining: 45.1ms\n",
      "90:\tlearn: 0.0067527\ttotal: 209ms\tremaining: 20.6ms\n",
      "99:\tlearn: 0.0059785\ttotal: 223ms\tremaining: 0us\n",
      "Accuracy: 0.9825\n"
     ]
    }
   ],
   "source": [
    "from catboost import CatBoostClassifier, Pool\n",
    "from sklearn.datasets import load_breast_cancer\n",
    "from sklearn.model_selection import train_test_split\n",
    "from sklearn.metrics import accuracy_score\n",
    "\n",
    "# Load dataset\n",
    "data = load_breast_cancer()\n",
    "X, y = data.data, data.target\n",
    "\n",
    "# Split data into train and test sets\n",
    "X_train, X_test, y_train, y_test = train_test_split(X, y, test_size=0.3, random_state=42)\n",
    "\n",
    "# Define the CatBoost model\n",
    "model = CatBoostClassifier(\n",
    "    iterations=100,       # Number of boosting iterations\n",
    "    learning_rate=0.1,    # Step size for updates\n",
    "    depth=6,              # Maximum depth of the trees\n",
    "    verbose=10,           # Output training progress every 10 iterations\n",
    "    loss_function='Logloss'  # Loss function for binary classification\n",
    ")\n",
    "\n",
    "# Train the model\n",
    "model.fit(X_train, y_train)\n",
    "\n",
    "# Make predictions\n",
    "y_pred = model.predict(X_test)\n",
    "\n",
    "# Evaluate accuracy\n",
    "accuracy = accuracy_score(y_test, y_pred)\n",
    "print(f\"Accuracy: {accuracy:.4f}\")\n"
   ]
  },
  {
   "cell_type": "code",
   "execution_count": null,
   "metadata": {},
   "outputs": [],
   "source": []
  }
 ],
 "metadata": {
  "kernelspec": {
   "display_name": "ml-practice",
   "language": "python",
   "name": "python3"
  },
  "language_info": {
   "codemirror_mode": {
    "name": "ipython",
    "version": 3
   },
   "file_extension": ".py",
   "mimetype": "text/x-python",
   "name": "python",
   "nbconvert_exporter": "python",
   "pygments_lexer": "ipython3",
   "version": "3.8.20"
  }
 },
 "nbformat": 4,
 "nbformat_minor": 2
}
