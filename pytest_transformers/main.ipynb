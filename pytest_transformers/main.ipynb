{
 "cells": [
  {
   "cell_type": "code",
   "execution_count": 1,
   "metadata": {},
   "outputs": [
    {
     "name": "stdout",
     "output_type": "stream",
     "text": [
      "\u001b[1m============================= test session starts ==============================\u001b[0m\n",
      "platform darwin -- Python 3.8.20, pytest-8.3.4, pluggy-1.5.0\n",
      "rootdir: /Users/kasra/Codes/ml-practice/pytest_transformers\n",
      "plugins: anyio-4.5.2, typeguard-2.13.3\n",
      "collected 0 items / 1 error                                                    \u001b[0m\u001b[1m\n",
      "\n",
      "==================================== ERRORS ====================================\n",
      "\u001b[31m\u001b[1m________________________ ERROR collecting test_model.py ________________________\u001b[0m\n",
      "\u001b[31mImportError while importing test module '/Users/kasra/Codes/ml-practice/pytest_transformers/test_model.py'.\n",
      "Hint: make sure your test modules/packages have valid Python names.\n",
      "Traceback:\n",
      "\u001b[1m\u001b[31m/opt/miniconda3/envs/ml-practice/lib/python3.8/importlib/__init__.py\u001b[0m:127: in import_module\n",
      "    \u001b[0m\u001b[94mreturn\u001b[39;49;00m _bootstrap._gcd_import(name[level:], package, level)\u001b[90m\u001b[39;49;00m\n",
      "\u001b[1m\u001b[31mtest_model.py\u001b[0m:7: in <module>\n",
      "    \u001b[0m\u001b[94mfrom\u001b[39;49;00m \u001b[04m\u001b[96mmodel\u001b[39;49;00m \u001b[94mimport\u001b[39;49;00m MultilabelClassifier\u001b[90m\u001b[39;49;00m\n",
      "\u001b[1m\u001b[31mmodel.py\u001b[0m:3: in <module>\n",
      "    \u001b[0m\u001b[94mimport\u001b[39;49;00m \u001b[04m\u001b[96mconfig\u001b[39;49;00m \u001b[94mas\u001b[39;49;00m \u001b[04m\u001b[96mconfig\u001b[39;49;00m\u001b[90m\u001b[39;49;00m\n",
      "\u001b[1m\u001b[31mE   ModuleNotFoundError: No module named 'config'\u001b[0m\u001b[0m\n",
      "\u001b[36m\u001b[1m=========================== short test summary info ============================\u001b[0m\n",
      "\u001b[31mERROR\u001b[0m test_model.py\n",
      "!!!!!!!!!!!!!!!!!!!! Interrupted: 1 error during collection !!!!!!!!!!!!!!!!!!!!\n",
      "\u001b[31m============================== \u001b[31m\u001b[1m1 error\u001b[0m\u001b[31m in 14.27s\u001b[0m\u001b[31m ===============================\u001b[0m\n"
     ]
    }
   ],
   "source": [
    "! pytest test_model.py"
   ]
  },
  {
   "cell_type": "code",
   "execution_count": null,
   "metadata": {},
   "outputs": [],
   "source": []
  }
 ],
 "metadata": {
  "kernelspec": {
   "display_name": "ml-practice",
   "language": "python",
   "name": "python3"
  },
  "language_info": {
   "codemirror_mode": {
    "name": "ipython",
    "version": 3
   },
   "file_extension": ".py",
   "mimetype": "text/x-python",
   "name": "python",
   "nbconvert_exporter": "python",
   "pygments_lexer": "ipython3",
   "version": "3.8.20"
  }
 },
 "nbformat": 4,
 "nbformat_minor": 2
}
